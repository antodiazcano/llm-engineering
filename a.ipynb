{
 "cells": [
  {
   "cell_type": "code",
   "execution_count": 16,
   "metadata": {},
   "outputs": [
    {
     "ename": "ValueError",
     "evalue": "No chrome executable found on PATH",
     "output_type": "error",
     "traceback": [
      "\u001b[31m---------------------------------------------------------------------------\u001b[39m",
      "\u001b[31mValueError\u001b[39m                                Traceback (most recent call last)",
      "\u001b[36mCell\u001b[39m\u001b[36m \u001b[39m\u001b[32mIn[16]\u001b[39m\u001b[32m, line 8\u001b[39m\n\u001b[32m      5\u001b[39m \u001b[38;5;28;01mfrom\u001b[39;00m\u001b[38;5;250m \u001b[39m\u001b[34;01mtempfile\u001b[39;00m\u001b[38;5;250m \u001b[39m\u001b[38;5;28;01mimport\u001b[39;00m mkdtemp\n\u001b[32m      7\u001b[39m \u001b[38;5;66;03m# Configura el WebDriver (asegúrate de que la ruta a chromedriver sea correcta)\u001b[39;00m\n\u001b[32m----> \u001b[39m\u001b[32m8\u001b[39m \u001b[43mchromedriver_autoinstaller\u001b[49m\u001b[43m.\u001b[49m\u001b[43minstall\u001b[49m\u001b[43m(\u001b[49m\u001b[43m)\u001b[49m\n\u001b[32m     10\u001b[39m \u001b[38;5;66;03m# Abre la página de Twitter\u001b[39;00m\n\u001b[32m     11\u001b[39m options = webdriver.ChromeOptions()\n",
      "\u001b[36mFile \u001b[39m\u001b[32m~/Escritorio/llms/code/llm-engineering/.venv/lib/python3.12/site-packages/chromedriver_autoinstaller/__init__.py:21\u001b[39m, in \u001b[36minstall\u001b[39m\u001b[34m(cwd, path, no_ssl)\u001b[39m\n\u001b[32m     19\u001b[39m \u001b[38;5;28;01mif\u001b[39;00m cwd:\n\u001b[32m     20\u001b[39m     path = os.getcwd()\n\u001b[32m---> \u001b[39m\u001b[32m21\u001b[39m chromedriver_filepath = \u001b[43mutils\u001b[49m\u001b[43m.\u001b[49m\u001b[43mdownload_chromedriver\u001b[49m\u001b[43m(\u001b[49m\u001b[43mpath\u001b[49m\u001b[43m,\u001b[49m\u001b[43m \u001b[49m\u001b[43mno_ssl\u001b[49m\u001b[43m)\u001b[49m\n\u001b[32m     22\u001b[39m \u001b[38;5;28;01mif\u001b[39;00m \u001b[38;5;129;01mnot\u001b[39;00m chromedriver_filepath:\n\u001b[32m     23\u001b[39m     logging.debug(\u001b[33m\"\u001b[39m\u001b[33mCan not download chromedriver.\u001b[39m\u001b[33m\"\u001b[39m)\n",
      "\u001b[36mFile \u001b[39m\u001b[32m~/Escritorio/llms/code/llm-engineering/.venv/lib/python3.12/site-packages/chromedriver_autoinstaller/utils.py:269\u001b[39m, in \u001b[36mdownload_chromedriver\u001b[39m\u001b[34m(path, no_ssl)\u001b[39m\n\u001b[32m    260\u001b[39m \u001b[38;5;28;01mdef\u001b[39;00m\u001b[38;5;250m \u001b[39m\u001b[34mdownload_chromedriver\u001b[39m(path: Optional[AnyStr] = \u001b[38;5;28;01mNone\u001b[39;00m, no_ssl: \u001b[38;5;28mbool\u001b[39m = \u001b[38;5;28;01mFalse\u001b[39;00m):\n\u001b[32m    261\u001b[39m \u001b[38;5;250m    \u001b[39m\u001b[33;03m\"\"\"\u001b[39;00m\n\u001b[32m    262\u001b[39m \u001b[33;03m    Downloads, unzips and installs chromedriver.\u001b[39;00m\n\u001b[32m    263\u001b[39m \u001b[33;03m    If a chromedriver binary is found in PATH it will be copied, otherwise downloaded.\u001b[39;00m\n\u001b[32m   (...)\u001b[39m\u001b[32m    267\u001b[39m \u001b[33;03m    :return: The file path of chromedriver\u001b[39;00m\n\u001b[32m    268\u001b[39m \u001b[33;03m    \"\"\"\u001b[39;00m\n\u001b[32m--> \u001b[39m\u001b[32m269\u001b[39m     chrome_version = \u001b[43mget_chrome_version\u001b[49m\u001b[43m(\u001b[49m\u001b[43m)\u001b[49m\n\u001b[32m    270\u001b[39m     \u001b[38;5;28;01mif\u001b[39;00m \u001b[38;5;129;01mnot\u001b[39;00m chrome_version:\n\u001b[32m    271\u001b[39m         logging.debug(\u001b[33m\"\u001b[39m\u001b[33mChrome is not installed.\u001b[39m\u001b[33m\"\u001b[39m)\n",
      "\u001b[36mFile \u001b[39m\u001b[32m~/Escritorio/llms/code/llm-engineering/.venv/lib/python3.12/site-packages/chromedriver_autoinstaller/utils.py:140\u001b[39m, in \u001b[36mget_chrome_version\u001b[39m\u001b[34m()\u001b[39m\n\u001b[32m    138\u001b[39m platform, _ = get_platform_architecture()\n\u001b[32m    139\u001b[39m \u001b[38;5;28;01mif\u001b[39;00m platform == \u001b[33m\"\u001b[39m\u001b[33mlinux\u001b[39m\u001b[33m\"\u001b[39m:\n\u001b[32m--> \u001b[39m\u001b[32m140\u001b[39m     path = \u001b[43mget_linux_executable_path\u001b[49m\u001b[43m(\u001b[49m\u001b[43m)\u001b[49m\n\u001b[32m    141\u001b[39m     \u001b[38;5;28;01mwith\u001b[39;00m subprocess.Popen([path, \u001b[33m\"\u001b[39m\u001b[33m--version\u001b[39m\u001b[33m\"\u001b[39m], stdout=subprocess.PIPE) \u001b[38;5;28;01mas\u001b[39;00m proc:\n\u001b[32m    142\u001b[39m         version = (\n\u001b[32m    143\u001b[39m             proc.stdout.read()\n\u001b[32m    144\u001b[39m             .decode(\u001b[33m\"\u001b[39m\u001b[33mutf-8\u001b[39m\u001b[33m\"\u001b[39m)\n\u001b[32m   (...)\u001b[39m\u001b[32m    147\u001b[39m             .strip()\n\u001b[32m    148\u001b[39m         )\n",
      "\u001b[36mFile \u001b[39m\u001b[32m~/Escritorio/llms/code/llm-engineering/.venv/lib/python3.12/site-packages/chromedriver_autoinstaller/utils.py:196\u001b[39m, in \u001b[36mget_linux_executable_path\u001b[39m\u001b[34m()\u001b[39m\n\u001b[32m    194\u001b[39m     \u001b[38;5;28;01mif\u001b[39;00m path \u001b[38;5;129;01mis\u001b[39;00m \u001b[38;5;129;01mnot\u001b[39;00m \u001b[38;5;28;01mNone\u001b[39;00m:\n\u001b[32m    195\u001b[39m         \u001b[38;5;28;01mreturn\u001b[39;00m path\n\u001b[32m--> \u001b[39m\u001b[32m196\u001b[39m \u001b[38;5;28;01mraise\u001b[39;00m \u001b[38;5;167;01mValueError\u001b[39;00m(\u001b[33m\"\u001b[39m\u001b[33mNo chrome executable found on PATH\u001b[39m\u001b[33m\"\u001b[39m)\n",
      "\u001b[31mValueError\u001b[39m: No chrome executable found on PATH"
     ]
    }
   ],
   "source": [
    "from selenium import webdriver\n",
    "from selenium.webdriver.common.by import By\n",
    "import chromedriver_autoinstaller\n",
    "from selenium.webdriver.chrome.options import Options\n",
    "from tempfile import mkdtemp\n",
    "\n",
    "# Configura el WebDriver (asegúrate de que la ruta a chromedriver sea correcta)\n",
    "chromedriver_autoinstaller.install()\n",
    "\n",
    "# Abre la página de Twitter\n",
    "options = webdriver.ChromeOptions()\n",
    "\n",
    "options.add_argument(\"--no-sandbox\")\n",
    "options.add_argument(\"--headless=new\")\n",
    "options.add_argument(\"--disable-dev-shm-usage\")\n",
    "options.add_argument(\"--log-level=3\")\n",
    "options.add_argument(\"--disable-popup-blocking\")\n",
    "options.add_argument(\"--disable-notifications\")\n",
    "options.add_argument(\"--disable-extensions\")\n",
    "options.add_argument(\"--disable-background-networking\")\n",
    "options.add_argument(\"--ignore-certificate-errors\")\n",
    "options.add_argument(f\"--user-data-dir={mkdtemp()}\")\n",
    "options.add_argument(f\"--data-path={mkdtemp()}\")\n",
    "options.add_argument(f\"--disk-cache-dir={mkdtemp()}\")\n",
    "options.add_argument(\"--remote-debugging-port=9226\")\n",
    "\n",
    "driver = webdriver.Chrome(\n",
    "    options=options,\n",
    ")\n",
    "\n",
    "driver.get(\"https://x.com/antodiazcano\")\n",
    "\n",
    "# Espera a que la página cargue (puedes ajustar el tiempo según sea necesario)\n",
    "time.sleep(5)\n",
    "\n",
    "# Encuentra los tweets (inspecciona el HTML para obtener la clase correcta)\n",
    "tweets = driver.find_elements(By.XPATH, '//div[@data-testid=\"tweet\"]')\n",
    "\n",
    "# Imprime el texto de los tweets\n",
    "for tweet in tweets:\n",
    "    print(tweet.text)\n",
    "\n",
    "# Cierra el navegador\n",
    "driver.quit()"
   ]
  },
  {
   "cell_type": "code",
   "execution_count": 13,
   "metadata": {},
   "outputs": [],
   "source": [
    "import requests\n",
    "from bs4 import BeautifulSoup\n",
    "\n",
    "# URL de tu perfil de Twitter\n",
    "url = \"https://x.com/tunguz\"\n",
    "\n",
    "# Hacer la solicitud\n",
    "response = requests.get(url)\n",
    "soup = BeautifulSoup(response.text, \"html.parser\")\n",
    "\n",
    "# Encontrar los tweets usando la clase correcta\n",
    "tweets = soup.find_all(\"div\", {\"class\": \"css-1dbjc4n r-1iusvr4 r-16y2uox\"})\n",
    "\n",
    "for tweet in tweets:\n",
    "    text = tweet.find(\"div\", {\"lang\": \"es\"})  # Ajusta según el idioma y la estructura\n",
    "    if text:\n",
    "        print(text.text)"
   ]
  },
  {
   "cell_type": "code",
   "execution_count": null,
   "metadata": {},
   "outputs": [],
   "source": []
  }
 ],
 "metadata": {
  "kernelspec": {
   "display_name": ".venv",
   "language": "python",
   "name": "python3"
  },
  "language_info": {
   "codemirror_mode": {
    "name": "ipython",
    "version": 3
   },
   "file_extension": ".py",
   "mimetype": "text/x-python",
   "name": "python",
   "nbconvert_exporter": "python",
   "pygments_lexer": "ipython3",
   "version": "3.12.3"
  }
 },
 "nbformat": 4,
 "nbformat_minor": 2
}
